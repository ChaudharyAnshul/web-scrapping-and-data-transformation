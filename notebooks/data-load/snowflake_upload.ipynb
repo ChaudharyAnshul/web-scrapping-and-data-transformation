{
 "cells": [
  {
   "cell_type": "code",
   "execution_count": 1,
   "id": "801d54fd-fa30-4239-afbd-d976f8b3d775",
   "metadata": {},
   "outputs": [],
   "source": [
    "import warnings\n",
    "warnings.filterwarnings(\"ignore\")\n",
    "from datetime import datetime\n",
    "import logging\n",
    "from IPython.display import display, Markdown\n",
    "from sqlalchemy import MetaData, Table, Column, String, Integer\n",
    "from snowflake_helper import getSnowflakeEngine\n",
    "from snowflake.connector import connect"
   ]
  },
  {
   "cell_type": "code",
   "execution_count": 2,
   "id": "684662bf-aedb-4ea1-b932-bad2e28b0e6f",
   "metadata": {},
   "outputs": [],
   "source": [
    "# Configure logging\n",
    "file_name = \"..\\..\\logs\\data-load-log\\snowflake-upload.log\"\n",
    "logger = logging.getLogger(__name__)\n",
    "logger.setLevel(logging.DEBUG)\n",
    "if not logger.handlers:\n",
    "    handler = logging.FileHandler(file_name)\n",
    "    formatter = logging.Formatter('%(asctime)s - %(levelname)s - %(message)s')\n",
    "    handler.setFormatter(formatter)\n",
    "    logger.addHandler(handler)\n",
    "\n",
    "# display log message in-line \n",
    "class NotebookHandler(logging.Handler):\n",
    "    def emit(self, record):\n",
    "        display(Markdown(self.format(record)))\n",
    "        \n",
    "logger.addHandler(NotebookHandler())\n",
    "\n",
    "# set the file to empty at start\n",
    "with open(file_name, 'w'):\n",
    "    pass"
   ]
  },
  {
   "cell_type": "code",
   "execution_count": 3,
   "id": "eb29c9c5-b883-4b20-8105-41891c959acd",
   "metadata": {},
   "outputs": [],
   "source": [
    "# test the URL connection\n",
    "def testConnection(engine):\n",
    "    try:\n",
    "        logger.info('Testing Snowflake connection')\n",
    "        connection = engine.connect()\n",
    "        results = connection.execute('select current_version()').fetchone()\n",
    "        logger.info(results[0])\n",
    "        logger.info('Successfully connected to Snowflake')\n",
    "        connection.close()\n",
    "        return True\n",
    "    except:\n",
    "        logger.error(\"Error connecting to Snowflake\")\n",
    "        if connection:\n",
    "            connection.close()\n",
    "        return False"
   ]
  },
  {
   "cell_type": "code",
   "execution_count": 4,
   "id": "29673ff9-b4d0-451f-9ba3-b8b580944c04",
   "metadata": {},
   "outputs": [],
   "source": [
    "def createCFATable(engine):\n",
    "    try:\n",
    "        logger.info('-------Starting Snowflake table creation-------')\n",
    "        # Define metadata\n",
    "        metadata = MetaData()\n",
    "    \n",
    "        # Define table structure\n",
    "        table_name = 'cfa-web-data'\n",
    "        topics_table = Table(\n",
    "            table_name,\n",
    "            metadata,\n",
    "            Column('Name_of_the_topic', String),\n",
    "            Column('Year', Integer),\n",
    "            Column('Level', String),\n",
    "            Column('Introduction_Summary', String),\n",
    "            Column('Learning_Outcomes', String),\n",
    "            Column('Summary', String),\n",
    "            Column('Link_to_Summary_Page', String),\n",
    "            Column('Link_to_PDF_File', String)\n",
    "        )\n",
    "    \n",
    "        # create or replace table in Snowflake\n",
    "        topics_table.drop(engine, checkfirst=True)  # Drop table if exists\n",
    "        topics_table.create(engine)\n",
    "        logger.info('Table created')\n",
    "        logger.info('-------Ending Snowflake table creation-------')\n",
    "        return table_name\n",
    "    except:\n",
    "        logger.error(\"Error creating Snowflake Table\")\n",
    "        return False"
   ]
  },
  {
   "cell_type": "code",
   "execution_count": 5,
   "id": "99576e5a-3627-4aa2-bc65-a9366fada0ae",
   "metadata": {},
   "outputs": [],
   "source": [
    "def uploadDataToSnowflake(engine, table_name):\n",
    "    file_format_name = 'csv_file_format'\n",
    "    field_delimiter = '\\t'\n",
    "    skip_header = 1\n",
    "    skip_blank_lines = True\n",
    "    trim_space = True\n",
    "    field_optionally_enclosed_by = None\n",
    "\n",
    "    file_path = \"../../data/scrape-data/cfa-data.csv\"\n",
    "    stage_name = \"data_csv_stage\"\n",
    "    \n",
    "    # Create or replace file format\n",
    "    create_file_format_sql = f\"\"\"\n",
    "    CREATE OR REPLACE FILE FORMAT {file_format_name}\n",
    "    TYPE = 'CSV'\n",
    "    FIELD_DELIMITER = '{field_delimiter}'\n",
    "    SKIP_HEADER = {skip_header}\n",
    "    SKIP_BLANK_LINES = {skip_blank_lines}\n",
    "    TRIM_SPACE = {trim_space}\n",
    "    \"\"\"\n",
    "\n",
    "    # create or replace Stage\n",
    "    create_stage = f\"\"\"CREATE OR REPLACE STAGE {stage_name} DIRECTORY = ( ENABLE = true );\"\"\"\n",
    "    \n",
    "    # Put file format\n",
    "    put_command = f\"\"\"PUT 'file://{file_path}' @{stage_name}\"\"\"\n",
    "\n",
    "    # Copy to table\n",
    "    copy_sql = f\"\"\"\n",
    "        COPY INTO \"{table_name}\" FROM '@{stage_name}'\n",
    "        FILE_FORMAT = (FORMAT_NAME = {file_format_name})\n",
    "        \"\"\"\n",
    "\n",
    "    try:\n",
    "        logger.info('-------Starting Data Upload to Snowflake-------')\n",
    "        \n",
    "        with engine.connect() as connection: \n",
    "            # execute file format\n",
    "            connection.execute(create_file_format_sql)\n",
    "            logger.info('File Format created')\n",
    "            \n",
    "            # execute stage creation\n",
    "            connection .execute(create_stage)\n",
    "            logger.info('Stage created')\n",
    "            \n",
    "            # put file in stage\n",
    "            connection.execute(put_command)\n",
    "            logger.info('Put file into stage')\n",
    "\n",
    "            # put file in stage\n",
    "            connection.execute(copy_sql)\n",
    "            logger.info('Copied file into table')\n",
    "\n",
    "        logger.info('-------Ending Data Upload to Snowflake-------')\n",
    "    except: \n",
    "        logger.error(\"Error creating Uploading to Snowflake\")"
   ]
  },
  {
   "cell_type": "code",
   "execution_count": 6,
   "id": "092f964d-9910-4311-8400-49ff09abfdb5",
   "metadata": {},
   "outputs": [
    {
     "data": {
      "text/markdown": [
       "Testing Snowflake connection"
      ],
      "text/plain": [
       "<IPython.core.display.Markdown object>"
      ]
     },
     "metadata": {},
     "output_type": "display_data"
    },
    {
     "data": {
      "text/markdown": [
       "8.6.2"
      ],
      "text/plain": [
       "<IPython.core.display.Markdown object>"
      ]
     },
     "metadata": {},
     "output_type": "display_data"
    },
    {
     "data": {
      "text/markdown": [
       "Successfully connected to Snowflake"
      ],
      "text/plain": [
       "<IPython.core.display.Markdown object>"
      ]
     },
     "metadata": {},
     "output_type": "display_data"
    },
    {
     "data": {
      "text/markdown": [
       "-------Starting Snowflake table creation-------"
      ],
      "text/plain": [
       "<IPython.core.display.Markdown object>"
      ]
     },
     "metadata": {},
     "output_type": "display_data"
    },
    {
     "data": {
      "text/markdown": [
       "Table created"
      ],
      "text/plain": [
       "<IPython.core.display.Markdown object>"
      ]
     },
     "metadata": {},
     "output_type": "display_data"
    },
    {
     "data": {
      "text/markdown": [
       "-------Ending Snowflake table creation-------"
      ],
      "text/plain": [
       "<IPython.core.display.Markdown object>"
      ]
     },
     "metadata": {},
     "output_type": "display_data"
    },
    {
     "data": {
      "text/markdown": [
       "-------Starting Data Upload to Snowflake-------"
      ],
      "text/plain": [
       "<IPython.core.display.Markdown object>"
      ]
     },
     "metadata": {},
     "output_type": "display_data"
    },
    {
     "data": {
      "text/markdown": [
       "File Format created"
      ],
      "text/plain": [
       "<IPython.core.display.Markdown object>"
      ]
     },
     "metadata": {},
     "output_type": "display_data"
    },
    {
     "data": {
      "text/markdown": [
       "Stage created"
      ],
      "text/plain": [
       "<IPython.core.display.Markdown object>"
      ]
     },
     "metadata": {},
     "output_type": "display_data"
    },
    {
     "data": {
      "text/markdown": [
       "Put file into stage"
      ],
      "text/plain": [
       "<IPython.core.display.Markdown object>"
      ]
     },
     "metadata": {},
     "output_type": "display_data"
    },
    {
     "data": {
      "text/markdown": [
       "Copied file into table"
      ],
      "text/plain": [
       "<IPython.core.display.Markdown object>"
      ]
     },
     "metadata": {},
     "output_type": "display_data"
    },
    {
     "data": {
      "text/markdown": [
       "-------Ending Data Upload to Snowflake-------"
      ],
      "text/plain": [
       "<IPython.core.display.Markdown object>"
      ]
     },
     "metadata": {},
     "output_type": "display_data"
    }
   ],
   "source": [
    "if __name__ == \"__main__\":\n",
    "    # create snowflake engine()\n",
    "    snowflake_database=\"ASSIGNMENT_2\"\n",
    "    snowflake_schema=\"RR_SCHEMA\"\n",
    "    snowflake_warehouse=\"WH_2\"\n",
    "    engine = getSnowflakeEngine(snowflake_database, snowflake_schema, snowflake_warehouse)\n",
    "    \n",
    "    # test connectuion\n",
    "    testConnection(engine)\n",
    "    \n",
    "    # create table for CFA data\n",
    "    table_name = createCFATable(engine)\n",
    "\n",
    "    # uploading data to snowflake\n",
    "    uploadDataToSnowflake(engine, 'cfa-web-data')\n",
    "    "
   ]
  },
  {
   "cell_type": "code",
   "execution_count": null,
   "id": "cb375400-8304-469e-9ef9-a49910fb1688",
   "metadata": {},
   "outputs": [],
   "source": []
  }
 ],
 "metadata": {
  "kernelspec": {
   "display_name": "Python 3 (ipykernel)",
   "language": "python",
   "name": "python3"
  },
  "language_info": {
   "codemirror_mode": {
    "name": "ipython",
    "version": 3
   },
   "file_extension": ".py",
   "mimetype": "text/x-python",
   "name": "python",
   "nbconvert_exporter": "python",
   "pygments_lexer": "ipython3",
   "version": "3.11.5"
  }
 },
 "nbformat": 4,
 "nbformat_minor": 5
}
